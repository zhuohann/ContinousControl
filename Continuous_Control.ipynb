{
 "cells": [
  {
   "cell_type": "markdown",
   "metadata": {},
   "source": [
    "# Continuous Control\n",
    "\n",
    "---\n",
    "\n",
    "In this notebook, you will learn how to use the Unity ML-Agents environment for the second project of the [Deep Reinforcement Learning Nanodegree](https://www.udacity.com/course/deep-reinforcement-learning-nanodegree--nd893) program.\n",
    "\n",
    "### 1. Start the Environment\n",
    "\n",
    "We begin by importing the necessary packages.  If the code cell below returns an error, please revisit the project instructions to double-check that you have installed [Unity ML-Agents](https://github.com/Unity-Technologies/ml-agents/blob/master/docs/Installation.md) and [NumPy](http://www.numpy.org/)."
   ]
  },
  {
   "cell_type": "code",
   "execution_count": 1,
   "metadata": {},
   "outputs": [],
   "source": [
    "from unityagents import UnityEnvironment\n",
    "import numpy as np\n",
    "from collections import deque\n",
    "from ddpg_agent import Agent\n",
    "import numpy as np\n",
    "import torch\n",
    "import matplotlib.pyplot as plt"
   ]
  },
  {
   "cell_type": "markdown",
   "metadata": {},
   "source": [
    "Next, we will start the environment!  **_Before running the code cell below_**, change the `file_name` parameter to match the location of the Unity environment that you downloaded.\n",
    "\n",
    "- **Mac**: `\"path/to/Reacher.app\"`\n",
    "- **Windows** (x86): `\"path/to/Reacher_Windows_x86/Reacher.exe\"`\n",
    "- **Windows** (x86_64): `\"path/to/Reacher_Windows_x86_64/Reacher.exe\"`\n",
    "- **Linux** (x86): `\"path/to/Reacher_Linux/Reacher.x86\"`\n",
    "- **Linux** (x86_64): `\"path/to/Reacher_Linux/Reacher.x86_64\"`\n",
    "- **Linux** (x86, headless): `\"path/to/Reacher_Linux_NoVis/Reacher.x86\"`\n",
    "- **Linux** (x86_64, headless): `\"path/to/Reacher_Linux_NoVis/Reacher.x86_64\"`\n",
    "\n",
    "For instance, if you are using a Mac, then you downloaded `Reacher.app`.  If this file is in the same folder as the notebook, then the line below should appear as follows:\n",
    "```\n",
    "env = UnityEnvironment(file_name=\"Reacher.app\")\n",
    "```"
   ]
  },
  {
   "cell_type": "code",
   "execution_count": 2,
   "metadata": {},
   "outputs": [
    {
     "name": "stderr",
     "output_type": "stream",
     "text": [
      "INFO:unityagents:\n",
      "'Academy' started successfully!\n",
      "Unity Academy name: Academy\n",
      "        Number of Brains: 1\n",
      "        Number of External Brains : 1\n",
      "        Lesson number : 0\n",
      "        Reset Parameters :\n",
      "\t\tgoal_speed -> 1.0\n",
      "\t\tgoal_size -> 5.0\n",
      "Unity brain name: ReacherBrain\n",
      "        Number of Visual Observations (per agent): 0\n",
      "        Vector Observation space type: continuous\n",
      "        Vector Observation space size (per agent): 33\n",
      "        Number of stacked Vector Observation: 1\n",
      "        Vector Action space type: continuous\n",
      "        Vector Action space size (per agent): 4\n",
      "        Vector Action descriptions: , , , \n"
     ]
    }
   ],
   "source": [
    "env = UnityEnvironment(file_name='Reacher_Windows_x86/Reacher.exe')"
   ]
  },
  {
   "cell_type": "markdown",
   "metadata": {},
   "source": [
    "Environments contain **_brains_** which are responsible for deciding the actions of their associated agents. Here we check for the first brain available, and set it as the default brain we will be controlling from Python."
   ]
  },
  {
   "cell_type": "code",
   "execution_count": 3,
   "metadata": {},
   "outputs": [],
   "source": [
    "# get the default brain\n",
    "brain_name = env.brain_names[0]\n",
    "brain = env.brains[brain_name]"
   ]
  },
  {
   "cell_type": "markdown",
   "metadata": {},
   "source": [
    "### 2. Examine the State and Action Spaces\n",
    "\n",
    "In this environment, a double-jointed arm can move to target locations. A reward of `+0.1` is provided for each step that the agent's hand is in the goal location. Thus, the goal of your agent is to maintain its position at the target location for as many time steps as possible.\n",
    "\n",
    "The observation space consists of `33` variables corresponding to position, rotation, velocity, and angular velocities of the arm.  Each action is a vector with four numbers, corresponding to torque applicable to two joints.  Every entry in the action vector must be a number between `-1` and `1`.\n",
    "\n",
    "Run the code cell below to print some information about the environment."
   ]
  },
  {
   "cell_type": "code",
   "execution_count": 4,
   "metadata": {},
   "outputs": [
    {
     "name": "stdout",
     "output_type": "stream",
     "text": [
      "Number of agents: 20\n",
      "Size of each action: 4\n",
      "There are 20 agents. Each observes a state with length: 33\n",
      "The state for the first agent looks like: [ 0.00000000e+00 -4.00000000e+00  0.00000000e+00  1.00000000e+00\n",
      " -0.00000000e+00 -0.00000000e+00 -4.37113883e-08  0.00000000e+00\n",
      "  0.00000000e+00  0.00000000e+00  0.00000000e+00  0.00000000e+00\n",
      "  0.00000000e+00  0.00000000e+00 -1.00000000e+01  0.00000000e+00\n",
      "  1.00000000e+00 -0.00000000e+00 -0.00000000e+00 -4.37113883e-08\n",
      "  0.00000000e+00  0.00000000e+00  0.00000000e+00  0.00000000e+00\n",
      "  0.00000000e+00  0.00000000e+00  5.75471878e+00 -1.00000000e+00\n",
      "  5.55726624e+00  0.00000000e+00  1.00000000e+00  0.00000000e+00\n",
      " -1.68164849e-01]\n"
     ]
    }
   ],
   "source": [
    "# reset the environment\n",
    "env_info = env.reset(train_mode=True)[brain_name]\n",
    "\n",
    "# number of agents\n",
    "num_agents = len(env_info.agents)\n",
    "print('Number of agents:', num_agents)\n",
    "\n",
    "# size of each action\n",
    "action_size = brain.vector_action_space_size\n",
    "print('Size of each action:', action_size)\n",
    "\n",
    "# examine the state space \n",
    "states = env_info.vector_observations\n",
    "\n",
    "state_size = states.shape[1]\n",
    "print('There are {} agents. Each observes a state with length: {}'.format(states.shape[0], state_size))\n",
    "print('The state for the first agent looks like:', states[0])"
   ]
  },
  {
   "cell_type": "markdown",
   "metadata": {},
   "source": [
    "### 3. Take Random Actions in the Environment\n",
    "\n",
    "In the next code cell, you will learn how to use the Python API to control the agent and receive feedback from the environment.\n",
    "\n",
    "Once this cell is executed, you will watch the agent's performance, if it selects an action at random with each time step.  A window should pop up that allows you to observe the agent, as it moves through the environment.  \n",
    "\n",
    "Of course, as part of the project, you'll have to change the code so that the agent is able to use its experience to gradually choose better actions when interacting with the environment!"
   ]
  },
  {
   "cell_type": "code",
   "execution_count": null,
   "metadata": {},
   "outputs": [],
   "source": [
    "env_info = env.reset(train_mode=False)[brain_name]     # reset the environment    \n",
    "states = env_info.vector_observations                  # get the current state (for each agent)\n",
    "scores = np.zeros(num_agents)    \n",
    "step = 0                                               # initialize the score (for each agent)\n",
    "while True:\n",
    "    #actions = np.random.randn(num_agents, action_size) # select an action (for each agent)\n",
    "    #actions = np.clip(actions, -1, 1)                  # all actions between -1 and 1\n",
    "    actions = agent.act(states)\n",
    "    env_info = env.step(actions)[brain_name]           # send all actions to tne environment\n",
    "    next_states = env_info.vector_observations         # get next state (for each agent)\n",
    "    rewards = env_info.rewards                         # get reward (for each agent)\n",
    "    dones = env_info.local_done                        # see if episode finished\n",
    "    scores += env_info.rewards                         # update the score (for each agent)\n",
    "    states = next_states                               # roll over states to next time step\n",
    "    step += 1\n",
    "    if np.any(dones):                                  # exit loop if episode finished\n",
    "        break\n",
    "print('Total score (averaged over agents) this episode: {}'.format(np.mean(scores)))\n",
    "print(step)"
   ]
  },
  {
   "cell_type": "markdown",
   "metadata": {},
   "source": [
    "When finished, you can close the environment."
   ]
  },
  {
   "cell_type": "code",
   "execution_count": 5,
   "metadata": {},
   "outputs": [],
   "source": [
    "states = env_info.vector_observations\n",
    "state_size = states.shape[1]\n",
    "action_size = brain.vector_action_space_size\n",
    "agent = Agent(state_size, action_size,0)"
   ]
  },
  {
   "cell_type": "code",
   "execution_count": 6,
   "metadata": {},
   "outputs": [
    {
     "name": "stdout",
     "output_type": "stream",
     "text": [
      "Episode 1 \tScore: 0.59\n",
      "Episode 2 \tScore: 1.05\n",
      "Episode 3 \tScore: 0.88\n",
      "Episode 4 \tScore: 0.96\n",
      "Episode 5 \tScore: 1.27\n",
      "Episode 6 \tScore: 1.83\n",
      "Episode 7 \tScore: 1.66\n",
      "Episode 8 \tScore: 2.11\n",
      "Episode 9 \tScore: 2.34\n",
      "Episode 10 \tScore: 2.98\n",
      "Average Score: 1.57\n",
      "Episode 11 \tScore: 3.57\n",
      "Episode 12 \tScore: 4.11\n",
      "Episode 13 \tScore: 4.37\n",
      "Episode 14 \tScore: 7.25\n",
      "Episode 15 \tScore: 6.74\n",
      "Episode 16 \tScore: 8.58\n",
      "Episode 17 \tScore: 12.56\n",
      "Episode 18 \tScore: 13.91\n",
      "Episode 19 \tScore: 16.57\n",
      "Episode 20 \tScore: 17.46\n",
      "Average Score: 9.51\n",
      "Episode 21 \tScore: 21.54\n",
      "Episode 22 \tScore: 20.78\n",
      "Episode 23 \tScore: 25.36\n",
      "Episode 24 \tScore: 28.07\n",
      "Episode 25 \tScore: 30.78\n",
      "Episode 26 \tScore: 34.98\n",
      "Episode 27 \tScore: 37.16\n",
      "Episode 28 \tScore: 37.34\n",
      "Episode 29 \tScore: 37.55\n",
      "Episode 30 \tScore: 37.30\n",
      "Average Score: 31.09\n",
      "Episode 31 \tScore: 37.09\n",
      "Episode 32 \tScore: 37.01\n",
      "Episode 33 \tScore: 36.76\n",
      "Episode 34 \tScore: 37.59\n",
      "Episode 35 \tScore: 37.69\n",
      "Episode 36 \tScore: 36.18\n",
      "Episode 37 \tScore: 36.72\n",
      "Episode 38 \tScore: 36.94\n",
      "Episode 39 \tScore: 35.28\n",
      "Episode 40 \tScore: 35.71\n",
      "Average Score: 36.70\n",
      "Episode 41 \tScore: 35.33\n",
      "Episode 42 \tScore: 36.36\n",
      "Episode 43 \tScore: 37.02\n",
      "Episode 44 \tScore: 35.26\n",
      "Episode 45 \tScore: 34.82\n",
      "Episode 46 \tScore: 35.48\n",
      "Episode 47 \tScore: 36.26\n",
      "Episode 48 \tScore: 35.57\n",
      "Episode 49 \tScore: 34.55\n",
      "Episode 50 \tScore: 34.28\n",
      "Average Score: 35.49\n",
      "Episode 51 \tScore: 32.72\n",
      "Episode 52 \tScore: 36.77\n",
      "Episode 53 \tScore: 36.75\n",
      "Episode 54 \tScore: 36.27\n",
      "Episode 55 \tScore: 35.56\n",
      "Episode 56 \tScore: 34.11\n",
      "Episode 57 \tScore: 35.60\n",
      "Episode 58 \tScore: 35.54\n",
      "Episode 59 \tScore: 36.82\n",
      "Episode 60 \tScore: 36.93\n",
      "Average Score: 35.71\n",
      "Episode 61 \tScore: 36.41\n",
      "Episode 62 \tScore: 36.04\n",
      "Episode 63 \tScore: 36.52\n",
      "Episode 64 \tScore: 34.33\n",
      "Episode 65 \tScore: 34.74\n",
      "Episode 66 \tScore: 35.28\n",
      "Episode 67 \tScore: 35.61\n",
      "Episode 68 \tScore: 35.45\n",
      "Episode 69 \tScore: 36.16\n",
      "Episode 70 \tScore: 35.39\n",
      "Average Score: 35.59\n",
      "Episode 71 \tScore: 34.56\n",
      "Episode 72 \tScore: 37.23\n",
      "Episode 73 \tScore: 36.35\n",
      "Episode 74 \tScore: 35.03\n",
      "Episode 75 \tScore: 35.62\n",
      "Episode 76 \tScore: 37.53\n",
      "Episode 77 \tScore: 36.55\n",
      "Episode 78 \tScore: 35.40\n",
      "Episode 79 \tScore: 34.94\n",
      "Episode 80 \tScore: 35.40\n",
      "Average Score: 35.86\n",
      "Episode 81 \tScore: 32.07\n",
      "Episode 82 \tScore: 34.14\n",
      "Episode 83 \tScore: 36.67\n",
      "Episode 84 \tScore: 36.34\n",
      "Episode 85 \tScore: 36.46\n",
      "Episode 86 \tScore: 36.58\n",
      "Episode 87 \tScore: 34.59\n",
      "Episode 88 \tScore: 36.94\n",
      "Episode 89 \tScore: 34.76\n",
      "Episode 90 \tScore: 33.13\n",
      "Average Score: 35.17\n",
      "Episode 91 \tScore: 33.84\n",
      "Episode 92 \tScore: 37.23\n",
      "Episode 93 \tScore: 35.70\n",
      "Episode 94 \tScore: 33.88\n",
      "Episode 95 \tScore: 34.67\n",
      "Episode 96 \tScore: 33.44\n",
      "Episode 97 \tScore: 33.34\n",
      "Episode 98 \tScore: 36.17\n",
      "Episode 99 \tScore: 35.27\n",
      "Episode 100 \tScore: 36.07\n",
      "Average Score: 34.96\n"
     ]
    },
    {
     "data": {
      "image/png": "[encoded data removed]",
      "text/plain": [
       "<Figure size 432x288 with 1 Axes>"
      ]
     },
     "metadata": {
      "needs_background": "light"
     },
     "output_type": "display_data"
    }
   ],
   "source": [
    "def ddpg(n_episodes=100, print_every=10):\n",
    "    scores_deque = deque(maxlen=print_every)\n",
    "    scores = []\n",
    "    for i_episode in range(1, n_episodes+1):\n",
    "        env_info = env.reset(train_mode=True)[brain_name] # resets env, training = true\n",
    "        states = env_info.vector_observations #get current state \n",
    "        score = np.zeros((20,))\n",
    "        while True:\n",
    "            actions = agent.act(states)                          #gets an action\n",
    "            env_info = env.step(actions)[brain_name]            #step through action                    \n",
    "            next_states = env_info.vector_observations          # get next state (for each agent)\n",
    "            rewards = env_info.rewards                          # get reward (for each agent)\n",
    "            dones = env_info.local_done                         # see if episode finished\n",
    "            agent.step(states, actions, rewards, next_states, dones)\n",
    "            score += np.array(rewards)                                   # update the score (for each agent)\n",
    "            states = next_states            \n",
    "            if np.any(dones):\n",
    "                break\n",
    "            # roll over states to next time step\n",
    "        scores_deque.append(score)\n",
    "        scores.append(np.mean(score))\n",
    "        print('\\rEpisode {} \\tScore: {:.2f}'.format(i_episode,scores[-1]))\n",
    "        torch.save(agent.actor_local.state_dict(), 'checkpoint_actor.pth')\n",
    "        torch.save(agent.critic_local.state_dict(), 'checkpoint_critic.pth')\n",
    "        if i_episode % print_every == 0:\n",
    "            print('Average Score: {:.2f}'.format(np.mean(scores_deque)))  \n",
    "    return scores\n",
    "\n",
    "\n",
    "scores = ddpg()\n",
    "fig = plt.figure()\n",
    "ax = fig.add_subplot(111)\n",
    "plt.plot(np.arange(1, len(scores)+1), scores)\n",
    "plt.ylabel('Score')\n",
    "plt.xlabel('Episode #')\n",
    "plt.title(\"Score vs Episode\")\n",
    "plt.savefig('TEST#11.png',bbox_inches=\"tight\")\n",
    "plt.show()\n"
   ]
  },
  {
   "cell_type": "markdown",
   "metadata": {},
   "source": []
  },
  {
   "cell_type": "markdown",
   "metadata": {},
   "source": [
    "### 4. It's Your Turn!\n",
    "\n",
    "Now it's your turn to train your own agent to solve the environment!  When training the environment, set `train_mode=True`, so that the line for resetting the environment looks like the following:\n",
    "```python\n",
    "env_info = env.reset(train_mode=True)[brain_name]\n",
    "```"
   ]
  },
  {
   "cell_type": "code",
   "execution_count": null,
   "metadata": {},
   "outputs": [],
   "source": []
  },
  {
   "cell_type": "code",
   "execution_count": null,
   "metadata": {},
   "outputs": [],
   "source": []
  }
 ],
 "metadata": {
  "kernelspec": {
   "display_name": "Python 3",
   "language": "python",
   "name": "python3"
  },
  "language_info": {
   "codemirror_mode": {
    "name": "ipython",
    "version": 3
   },
   "file_extension": ".py",
   "mimetype": "text/x-python",
   "name": "python",
   "nbconvert_exporter": "python",
   "pygments_lexer": "ipython3",
   "version": "3.7.3"
  }
 },
 "nbformat": 4,
 "nbformat_minor": 2
}
