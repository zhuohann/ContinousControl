{
 "cells": [
  {
   "cell_type": "markdown",
   "metadata": {},
   "source": [
    "# Continuous Control\n",
    "\n",
    "---\n",
    "\n",
    "In this notebook, you will learn how to use the Unity ML-Agents environment for the second project of the [Deep Reinforcement Learning Nanodegree](https://www.udacity.com/course/deep-reinforcement-learning-nanodegree--nd893) program.\n",
    "\n",
    "### 1. Start the Environment\n",
    "\n",
    "We begin by importing the necessary packages.  If the code cell below returns an error, please revisit the project instructions to double-check that you have installed [Unity ML-Agents](https://github.com/Unity-Technologies/ml-agents/blob/master/docs/Installation.md) and [NumPy](http://www.numpy.org/)."
   ]
  },
  {
   "cell_type": "code",
   "execution_count": 1,
   "metadata": {},
   "outputs": [],
   "source": [
    "from unityagents import UnityEnvironment\n",
    "import numpy as np\n",
    "from collections import deque\n",
    "from ddpg_agent import Agent\n",
    "import numpy as np\n",
    "import torch\n",
    "import matplotlib.pyplot as plt"
   ]
  },
  {
   "cell_type": "markdown",
   "metadata": {},
   "source": [
    "Next, we will start the environment!  **_Before running the code cell below_**, change the `file_name` parameter to match the location of the Unity environment that you downloaded.\n",
    "\n",
    "- **Mac**: `\"path/to/Reacher.app\"`\n",
    "- **Windows** (x86): `\"path/to/Reacher_Windows_x86/Reacher.exe\"`\n",
    "- **Windows** (x86_64): `\"path/to/Reacher_Windows_x86_64/Reacher.exe\"`\n",
    "- **Linux** (x86): `\"path/to/Reacher_Linux/Reacher.x86\"`\n",
    "- **Linux** (x86_64): `\"path/to/Reacher_Linux/Reacher.x86_64\"`\n",
    "- **Linux** (x86, headless): `\"path/to/Reacher_Linux_NoVis/Reacher.x86\"`\n",
    "- **Linux** (x86_64, headless): `\"path/to/Reacher_Linux_NoVis/Reacher.x86_64\"`\n",
    "\n",
    "For instance, if you are using a Mac, then you downloaded `Reacher.app`.  If this file is in the same folder as the notebook, then the line below should appear as follows:\n",
    "```\n",
    "env = UnityEnvironment(file_name=\"Reacher.app\")\n",
    "```"
   ]
  },
  {
   "cell_type": "code",
   "execution_count": 2,
   "metadata": {},
   "outputs": [
    {
     "name": "stderr",
     "output_type": "stream",
     "text": [
      "INFO:unityagents:\n",
      "'Academy' started successfully!\n",
      "Unity Academy name: Academy\n",
      "        Number of Brains: 1\n",
      "        Number of External Brains : 1\n",
      "        Lesson number : 0\n",
      "        Reset Parameters :\n",
      "\t\tgoal_speed -> 1.0\n",
      "\t\tgoal_size -> 5.0\n",
      "Unity brain name: ReacherBrain\n",
      "        Number of Visual Observations (per agent): 0\n",
      "        Vector Observation space type: continuous\n",
      "        Vector Observation space size (per agent): 33\n",
      "        Number of stacked Vector Observation: 1\n",
      "        Vector Action space type: continuous\n",
      "        Vector Action space size (per agent): 4\n",
      "        Vector Action descriptions: , , , \n"
     ]
    }
   ],
   "source": [
    "env = UnityEnvironment(file_name='Reacher_Windows_x86/Reacher.exe')"
   ]
  },
  {
   "cell_type": "markdown",
   "metadata": {},
   "source": [
    "Environments contain **_brains_** which are responsible for deciding the actions of their associated agents. Here we check for the first brain available, and set it as the default brain we will be controlling from Python."
   ]
  },
  {
   "cell_type": "code",
   "execution_count": 3,
   "metadata": {},
   "outputs": [],
   "source": [
    "# get the default brain\n",
    "brain_name = env.brain_names[0]\n",
    "brain = env.brains[brain_name]"
   ]
  },
  {
   "cell_type": "markdown",
   "metadata": {},
   "source": [
    "### 2. Examine the State and Action Spaces\n",
    "\n",
    "In this environment, a double-jointed arm can move to target locations. A reward of `+0.1` is provided for each step that the agent's hand is in the goal location. Thus, the goal of your agent is to maintain its position at the target location for as many time steps as possible.\n",
    "\n",
    "The observation space consists of `33` variables corresponding to position, rotation, velocity, and angular velocities of the arm.  Each action is a vector with four numbers, corresponding to torque applicable to two joints.  Every entry in the action vector must be a number between `-1` and `1`.\n",
    "\n",
    "Run the code cell below to print some information about the environment."
   ]
  },
  {
   "cell_type": "code",
   "execution_count": 4,
   "metadata": {},
   "outputs": [
    {
     "name": "stdout",
     "output_type": "stream",
     "text": [
      "Number of agents: 1\n",
      "Size of each action: 4\n",
      "There are 1 agents. Each observes a state with length: 33\n",
      "The state for the first agent looks like: [ 0.00000000e+00 -4.00000000e+00  0.00000000e+00  1.00000000e+00\n",
      " -0.00000000e+00 -0.00000000e+00 -4.37113883e-08  0.00000000e+00\n",
      "  0.00000000e+00  0.00000000e+00  0.00000000e+00  0.00000000e+00\n",
      "  0.00000000e+00  0.00000000e+00 -1.00000000e+01  0.00000000e+00\n",
      "  1.00000000e+00 -0.00000000e+00 -0.00000000e+00 -4.37113883e-08\n",
      "  0.00000000e+00  0.00000000e+00  0.00000000e+00  0.00000000e+00\n",
      "  0.00000000e+00  0.00000000e+00  5.75471878e+00 -1.00000000e+00\n",
      "  5.55726671e+00  0.00000000e+00  1.00000000e+00  0.00000000e+00\n",
      " -1.68164849e-01]\n"
     ]
    }
   ],
   "source": [
    "# reset the environment\n",
    "env_info = env.reset(train_mode=True)[brain_name]\n",
    "\n",
    "# number of agents\n",
    "num_agents = len(env_info.agents)\n",
    "print('Number of agents:', num_agents)\n",
    "\n",
    "# size of each action\n",
    "action_size = brain.vector_action_space_size\n",
    "print('Size of each action:', action_size)\n",
    "\n",
    "# examine the state space \n",
    "states = env_info.vector_observations\n",
    "state_size = states.shape[1]\n",
    "print('There are {} agents. Each observes a state with length: {}'.format(states.shape[0], state_size))\n",
    "print('The state for the first agent looks like:', states[0])"
   ]
  },
  {
   "cell_type": "markdown",
   "metadata": {},
   "source": [
    "### 3. Take Random Actions in the Environment\n",
    "\n",
    "In the next code cell, you will learn how to use the Python API to control the agent and receive feedback from the environment.\n",
    "\n",
    "Once this cell is executed, you will watch the agent's performance, if it selects an action at random with each time step.  A window should pop up that allows you to observe the agent, as it moves through the environment.  \n",
    "\n",
    "Of course, as part of the project, you'll have to change the code so that the agent is able to use its experience to gradually choose better actions when interacting with the environment!"
   ]
  },
  {
   "cell_type": "code",
   "execution_count": 8,
   "metadata": {},
   "outputs": [
    {
     "name": "stdout",
     "output_type": "stream",
     "text": [
      "Total score (averaged over agents) this episode: 0.05999999865889549\n",
      "1001\n"
     ]
    }
   ],
   "source": [
    "env_info = env.reset(train_mode=False)[brain_name]     # reset the environment    \n",
    "states = env_info.vector_observations                  # get the current state (for each agent)\n",
    "scores = np.zeros(num_agents)    \n",
    "step = 0                                               # initialize the score (for each agent)\n",
    "while True:\n",
    "    actions = np.random.randn(num_agents, action_size) # select an action (for each agent)\n",
    "    actions = np.clip(actions, -1, 1)                  # all actions between -1 and 1\n",
    "    env_info = env.step(actions)[brain_name]           # send all actions to tne environment\n",
    "    next_states = env_info.vector_observations         # get next state (for each agent)\n",
    "    rewards = env_info.rewards                         # get reward (for each agent)\n",
    "    dones = env_info.local_done                        # see if episode finished\n",
    "    scores += env_info.rewards                         # update the score (for each agent)\n",
    "    states = next_states                               # roll over states to next time step\n",
    "    step += 1\n",
    "    if np.any(dones):                                  # exit loop if episode finished\n",
    "        break\n",
    "print('Total score (averaged over agents) this episode: {}'.format(np.mean(scores)))\n",
    "print(step)"
   ]
  },
  {
   "cell_type": "markdown",
   "metadata": {},
   "source": [
    "When finished, you can close the environment."
   ]
  },
  {
   "cell_type": "code",
   "execution_count": 5,
   "metadata": {},
   "outputs": [
    {
     "name": "stdout",
     "output_type": "stream",
     "text": [
      "33\n",
      "4\n"
     ]
    }
   ],
   "source": [
    "states = env_info.vector_observations\n",
    "state_size = states.shape[1]\n",
    "action_size = brain.vector_action_space_size\n",
    "print(state_size)\n",
    "print(action_size)\n",
    "agent = Agent(state_size, action_size,0)"
   ]
  },
  {
   "cell_type": "code",
   "execution_count": 6,
   "metadata": {},
   "outputs": [
    {
     "name": "stderr",
     "output_type": "stream",
     "text": [
      "C:\\Users\\zchea\\Anaconda3\\lib\\site-packages\\torch\\nn\\functional.py:1374: UserWarning: nn.functional.tanh is deprecated. Use torch.tanh instead.\n",
      "  warnings.warn(\"nn.functional.tanh is deprecated. Use torch.tanh instead.\")\n"
     ]
    },
    {
     "name": "stdout",
     "output_type": "stream",
     "text": [
      "Episode 1 \tScore: 0.19\n",
      "Episode 2 \tScore: 0.09\n",
      "Episode 3 \tScore: 0.00\n",
      "Episode 4 \tScore: 0.42\n",
      "Episode 5 \tScore: 0.00\n",
      "Episode 6 \tScore: 0.00\n",
      "Episode 7 \tScore: 0.40\n",
      "Episode 8 \tScore: 0.54\n",
      "Episode 9 \tScore: 0.06\n",
      "Episode 10 \tScore: 0.00\n",
      "Episode 11 \tScore: 0.00\n",
      "Episode 12 \tScore: 0.00\n",
      "Episode 13 \tScore: 0.00\n",
      "Episode 14 \tScore: 0.00\n",
      "Episode 15 \tScore: 0.00\n",
      "Episode 16 \tScore: 2.36\n",
      "Episode 17 \tScore: 0.67\n",
      "Episode 18 \tScore: 0.49\n",
      "Episode 19 \tScore: 0.35\n",
      "Episode 20 \tScore: 1.08\n",
      "Episode 21 \tScore: 1.52\n",
      "Episode 22 \tScore: 0.47\n",
      "Episode 23 \tScore: 0.22\n",
      "Episode 24 \tScore: 0.72\n",
      "Episode 25 \tScore: 0.29\n",
      "Episode 26 \tScore: 0.15\n",
      "Episode 27 \tScore: 0.70\n",
      "Episode 28 \tScore: 0.77\n",
      "Episode 29 \tScore: 1.02\n",
      "Episode 30 \tScore: 1.75\n",
      "Episode 31 \tScore: 0.32\n",
      "Episode 32 \tScore: 0.71\n",
      "Episode 33 \tScore: 1.01\n",
      "Episode 34 \tScore: 0.63\n",
      "Episode 35 \tScore: 0.91\n",
      "Episode 36 \tScore: 0.31\n",
      "Episode 37 \tScore: 1.97\n",
      "Episode 38 \tScore: 1.35\n",
      "Episode 39 \tScore: 1.43\n",
      "Episode 40 \tScore: 0.30\n",
      "Episode 41 \tScore: 0.56\n",
      "Episode 42 \tScore: 0.20\n",
      "Episode 43 \tScore: 0.91\n",
      "Episode 44 \tScore: 1.06\n",
      "Episode 45 \tScore: 1.39\n",
      "Episode 46 \tScore: 0.26\n",
      "Episode 47 \tScore: 0.22\n",
      "Episode 48 \tScore: 0.82\n",
      "Episode 49 \tScore: 0.23\n",
      "Episode 50 \tScore: 0.69\n",
      "Episode 51 \tScore: 0.26\n",
      "Episode 52 \tScore: 0.29\n",
      "Episode 53 \tScore: 1.26\n",
      "Episode 54 \tScore: 0.67\n",
      "Episode 55 \tScore: 0.53\n",
      "Episode 56 \tScore: 0.11\n",
      "Episode 57 \tScore: 0.00\n",
      "Episode 58 \tScore: 0.70\n",
      "Episode 59 \tScore: 1.17\n",
      "Episode 60 \tScore: 0.17\n",
      "Episode 61 \tScore: 1.51\n",
      "Episode 62 \tScore: 0.99\n",
      "Episode 63 \tScore: 1.59\n",
      "Episode 64 \tScore: 2.42\n",
      "Episode 65 \tScore: 1.52\n",
      "Episode 66 \tScore: 1.40\n",
      "Episode 67 \tScore: 1.65\n",
      "Episode 68 \tScore: 1.73\n",
      "Episode 69 \tScore: 2.42\n",
      "Episode 70 \tScore: 2.60\n",
      "Episode 71 \tScore: 1.66\n",
      "Episode 72 \tScore: 1.25\n",
      "Episode 73 \tScore: 1.40\n",
      "Episode 74 \tScore: 0.01\n",
      "Episode 75 \tScore: 0.37\n",
      "Episode 76 \tScore: 1.36\n",
      "Episode 77 \tScore: 1.09\n",
      "Episode 78 \tScore: 0.91\n",
      "Episode 79 \tScore: 1.34\n",
      "Episode 80 \tScore: 1.95\n",
      "Episode 81 \tScore: 1.61\n",
      "Episode 82 \tScore: 1.85\n",
      "Episode 83 \tScore: 1.78\n",
      "Episode 84 \tScore: 1.40\n",
      "Episode 85 \tScore: 1.43\n",
      "Episode 86 \tScore: 1.09\n",
      "Episode 87 \tScore: 0.82\n",
      "Episode 88 \tScore: 1.18\n",
      "Episode 89 \tScore: 0.49\n",
      "Episode 90 \tScore: 1.45\n",
      "Episode 91 \tScore: 0.91\n",
      "Episode 92 \tScore: 0.94\n",
      "Episode 93 \tScore: 0.64\n",
      "Episode 94 \tScore: 0.45\n",
      "Episode 95 \tScore: 1.59\n",
      "Episode 96 \tScore: 1.19\n",
      "Episode 97 \tScore: 0.99\n",
      "Episode 98 \tScore: 0.59\n",
      "Episode 99 \tScore: 1.00\n",
      "Episode 100 \tScore: 1.34\n",
      "Episode 101 \tScore: 1.09\n",
      "Episode 102 \tScore: 1.10\n",
      "Episode 103 \tScore: 1.87\n",
      "Episode 104 \tScore: 1.21\n",
      "Episode 105 \tScore: 1.10\n",
      "Episode 106 \tScore: 2.53\n",
      "Episode 107 \tScore: 1.49\n",
      "Episode 108 \tScore: 1.52\n",
      "Episode 109 \tScore: 0.89\n",
      "Episode 110 \tScore: 1.88\n",
      "Episode 111 \tScore: 1.87\n",
      "Episode 112 \tScore: 0.96\n",
      "Episode 113 \tScore: 1.45\n",
      "Episode 114 \tScore: 2.05\n",
      "Episode 115 \tScore: 1.29\n",
      "Episode 116 \tScore: 0.97\n",
      "Episode 117 \tScore: 1.25\n",
      "Episode 118 \tScore: 2.73\n",
      "Episode 119 \tScore: 1.58\n",
      "Episode 120 \tScore: 0.70\n",
      "Episode 121 \tScore: 1.56\n",
      "Episode 122 \tScore: 1.68\n",
      "Episode 123 \tScore: 1.52\n",
      "Episode 124 \tScore: 0.86\n",
      "Episode 125 \tScore: 1.45\n",
      "Episode 126 \tScore: 1.77\n",
      "Episode 127 \tScore: 1.41\n",
      "Episode 128 \tScore: 0.16\n",
      "Episode 129 \tScore: 0.83\n",
      "Episode 130 \tScore: 1.05\n",
      "Episode 131 \tScore: 2.26\n",
      "Episode 132 \tScore: 1.77\n",
      "Episode 133 \tScore: 0.53\n",
      "Episode 134 \tScore: 1.62\n",
      "Episode 135 \tScore: 1.41\n",
      "Episode 136 \tScore: 0.97\n",
      "Episode 137 \tScore: 1.10\n",
      "Episode 138 \tScore: 1.74\n",
      "Episode 139 \tScore: 2.46\n",
      "Episode 140 \tScore: 0.92\n",
      "Episode 141 \tScore: 2.80\n",
      "Episode 142 \tScore: 0.52\n",
      "Episode 143 \tScore: 1.03\n",
      "Episode 144 \tScore: 0.76\n",
      "Episode 145 \tScore: 1.01\n",
      "Episode 146 \tScore: 0.90\n",
      "Episode 147 \tScore: 2.53\n",
      "Episode 148 \tScore: 1.16\n",
      "Episode 149 \tScore: 2.15\n",
      "Episode 150 \tScore: 0.93\n",
      "Episode 151 \tScore: 0.98\n",
      "Episode 152 \tScore: 1.60\n",
      "Episode 153 \tScore: 0.62\n",
      "Episode 154 \tScore: 0.81\n",
      "Episode 155 \tScore: 0.94\n",
      "Episode 156 \tScore: 0.97\n",
      "Episode 157 \tScore: 1.60\n",
      "Episode 158 \tScore: 2.72\n",
      "Episode 159 \tScore: 2.19\n",
      "Episode 160 \tScore: 1.80\n",
      "Episode 161 \tScore: 0.87\n",
      "Episode 162 \tScore: 2.08\n",
      "Episode 163 \tScore: 1.05\n",
      "Episode 164 \tScore: 1.13\n",
      "Episode 165 \tScore: 2.25\n",
      "Episode 166 \tScore: 0.84\n",
      "Episode 167 \tScore: 0.36\n",
      "Episode 168 \tScore: 1.91\n",
      "Episode 169 \tScore: 1.57\n",
      "Episode 170 \tScore: 1.33\n",
      "Episode 171 \tScore: 3.00\n",
      "Episode 172 \tScore: 1.23\n",
      "Episode 173 \tScore: 0.72\n",
      "Episode 174 \tScore: 0.62\n",
      "Episode 175 \tScore: 1.54\n",
      "Episode 176 \tScore: 0.39\n",
      "Episode 177 \tScore: 0.29\n",
      "Episode 178 \tScore: 2.34\n",
      "Episode 179 \tScore: 0.94\n",
      "Episode 180 \tScore: 2.61\n",
      "Episode 181 \tScore: 0.89\n",
      "Episode 182 \tScore: 0.76\n",
      "Episode 183 \tScore: 0.71\n",
      "Episode 184 \tScore: 1.56\n",
      "Episode 185 \tScore: 2.37\n",
      "Episode 186 \tScore: 1.34\n",
      "Episode 187 \tScore: 0.32\n",
      "Episode 188 \tScore: 0.86\n",
      "Episode 189 \tScore: 1.42\n",
      "Episode 190 \tScore: 0.85\n",
      "Episode 191 \tScore: 2.15\n",
      "Episode 192 \tScore: 0.34\n",
      "Episode 193 \tScore: 0.29\n",
      "Episode 194 \tScore: 0.00\n",
      "Episode 195 \tScore: 0.21\n",
      "Episode 196 \tScore: 0.32\n",
      "Episode 197 \tScore: 0.42\n",
      "Episode 198 \tScore: 1.06\n",
      "Episode 199 \tScore: 2.42\n",
      "Episode 200 \tScore: 1.43\n",
      "Episode 201 \tScore: 0.71\n",
      "Episode 202 \tScore: 1.39\n",
      "Episode 203 \tScore: 0.62\n",
      "Episode 204 \tScore: 0.15\n",
      "Episode 205 \tScore: 0.31\n",
      "Episode 206 \tScore: 1.31\n",
      "Episode 207 \tScore: 0.51\n",
      "Episode 208 \tScore: 0.82\n",
      "Episode 209 \tScore: 0.62\n",
      "Episode 210 \tScore: 0.72\n",
      "Episode 211 \tScore: 1.72\n",
      "Episode 212 \tScore: 0.62\n",
      "Episode 213 \tScore: 0.57\n",
      "Episode 214 \tScore: 1.36\n",
      "Episode 215 \tScore: 0.75\n",
      "Episode 216 \tScore: 0.74\n",
      "Episode 217 \tScore: 0.95\n",
      "Episode 218 \tScore: 0.67\n",
      "Episode 219 \tScore: 1.80\n",
      "Episode 220 \tScore: 1.53\n",
      "Episode 221 \tScore: 1.36\n",
      "Episode 222 \tScore: 0.49\n",
      "Episode 223 \tScore: 0.67\n",
      "Episode 224 \tScore: 0.93\n",
      "Episode 225 \tScore: 1.75\n",
      "Episode 226 \tScore: 0.81\n",
      "Episode 227 \tScore: 0.73\n",
      "Episode 228 \tScore: 0.73\n",
      "Episode 229 \tScore: 0.89\n",
      "Episode 230 \tScore: 0.12\n",
      "Episode 231 \tScore: 0.00\n",
      "Episode 232 \tScore: 0.74\n",
      "Episode 233 \tScore: 0.00\n",
      "Episode 234 \tScore: 0.72\n",
      "Episode 235 \tScore: 0.00\n",
      "Episode 236 \tScore: 0.00\n",
      "Episode 237 \tScore: 0.05\n",
      "Episode 238 \tScore: 0.99\n",
      "Episode 239 \tScore: 0.00\n",
      "Episode 240 \tScore: 0.00\n",
      "Episode 241 \tScore: 1.04\n",
      "Episode 242 \tScore: 0.29\n",
      "Episode 243 \tScore: 0.00\n",
      "Episode 244 \tScore: 0.00\n",
      "Episode 245 \tScore: 0.01\n",
      "Episode 246 \tScore: 0.06\n",
      "Episode 247 \tScore: 0.08\n",
      "Episode 248 \tScore: 1.00\n",
      "Episode 249 \tScore: 0.71\n",
      "Episode 250 \tScore: 0.88\n"
     ]
    },
    {
     "data": {
      "image/png": "[encoded data removed]",
      "text/plain": [
       "<Figure size 432x288 with 1 Axes>"
      ]
     },
     "metadata": {
      "needs_background": "light"
     },
     "output_type": "display_data"
    }
   ],
   "source": [
    "def ddpg(n_episodes=250, max_t=1000, print_every=500):\n",
    "    scores_deque = deque(maxlen=print_every)\n",
    "    scores = []\n",
    "    for i_episode in range(1, n_episodes+1):\n",
    "        env_info = env.reset(train_mode=True)[brain_name] # resets env, training = true\n",
    "        state = env_info.vector_observations #get current state \n",
    "        score = 0\n",
    "        step = 0\n",
    "        for i in range(max_t):\n",
    "            action = agent.act(state)                          #gets an action\n",
    "            \n",
    "            env_info = env.step(action)[brain_name]            #step through action\n",
    "            \n",
    "            next_state = env_info.vector_observations          # get next state (for each agent)\n",
    "\n",
    "            reward = env_info.rewards[0]                          # get reward (for each agent)\n",
    " \n",
    "            done = env_info.local_done                         # see if episode finished\n",
    "    \n",
    "            a = agent.step(state, action, reward, next_state, done)\n",
    "\n",
    "            score += reward                                    # update the score (for each agent)\n",
    "            state = next_state\n",
    "            step += 1                                          # roll over states to next time step\n",
    "\n",
    "        scores_deque.append(score)\n",
    "        scores.append(score)\n",
    "        #print('\\rEpisode {}\\tAverage Score: {:.2f}'.format(i_episode, np.mean(scores_deque)), end=\"\")\n",
    "        print('\\rEpisode {} \\tScore: {:.2f}'.format(i_episode,score))\n",
    "        torch.save(agent.actor_local.state_dict(), 'checkpoint_actor.pth')\n",
    "        torch.save(agent.critic_local.state_dict(), 'checkpoint_critic.pth')\n",
    "        if i_episode % print_every == 0:\n",
    "            print('\\rEpisode {}\\tAverage Score: {:.2f}'.format(i_episode, np.mean(scores_deque)))  \n",
    "    return scores\n",
    "\n",
    "\n",
    "scores = ddpg()\n",
    "fig = plt.figure()\n",
    "ax = fig.add_subplot(111)\n",
    "plt.plot(np.arange(1, len(scores)+1), scores)\n",
    "plt.ylabel('Score')\n",
    "plt.xlabel('Episode #')\n",
    "plt.show()\n"
   ]
  },
  {
   "cell_type": "code",
   "execution_count": 9,
   "metadata": {},
   "outputs": [
    {
     "data": {
      "image/png": "[encoded data removed]",
      "text/plain": [
       "<Figure size 432x288 with 1 Axes>"
      ]
     },
     "metadata": {
      "needs_background": "light"
     },
     "output_type": "display_data"
    }
   ],
   "source": [
    "fig = plt.figure()\n",
    "ax = fig.add_subplot(111)\n",
    "plt.plot(np.arange(1, len(scores)+1), scores)\n",
    "plt.ylabel('Score')\n",
    "plt.xlabel('Episode #')\n",
    "plt.title(\"Test #1\")\n",
    "plt.savefig('TEST#1.png',bbox_inches=\"tight\")\n",
    "plt.show()"
   ]
  },
  {
   "cell_type": "markdown",
   "metadata": {},
   "source": [
    "### 4. It's Your Turn!\n",
    "\n",
    "Now it's your turn to train your own agent to solve the environment!  When training the environment, set `train_mode=True`, so that the line for resetting the environment looks like the following:\n",
    "```python\n",
    "env_info = env.reset(train_mode=True)[brain_name]\n",
    "```"
   ]
  },
  {
   "cell_type": "code",
   "execution_count": null,
   "metadata": {},
   "outputs": [],
   "source": []
  },
  {
   "cell_type": "code",
   "execution_count": null,
   "metadata": {},
   "outputs": [],
   "source": []
  }
 ],
 "metadata": {
  "kernelspec": {
   "display_name": "Python 3",
   "language": "python",
   "name": "python3"
  },
  "language_info": {
   "codemirror_mode": {
    "name": "ipython",
    "version": 3
   },
   "file_extension": ".py",
   "mimetype": "text/x-python",
   "name": "python",
   "nbconvert_exporter": "python",
   "pygments_lexer": "ipython3",
   "version": "3.7.3"
  }
 },
 "nbformat": 4,
 "nbformat_minor": 2
}
